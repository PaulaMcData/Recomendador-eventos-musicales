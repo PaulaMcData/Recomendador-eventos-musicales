{
 "cells": [
  {
   "cell_type": "markdown",
   "id": "db9f593b",
   "metadata": {},
   "source": [
    "# 🎶 Análisis de Sentimiento de Artistas a partir de la API de Last.fm\n",
    "\n",
    "## Global Project - Máster en Data Science - IEBS\n",
    "## Recomendador-Eventos-Musicales\n",
    "\n",
    "Este notebook tiene como objetivo realizar un análisis de sentimiento sobre artistas musicales\n",
    "utilizando las etiquetas generadas por la comunidad de usuarios en Last.fm. \n",
    "\n",
    "La información se integrará con una colección propia en MongoDB como parte de un sistema de recomendación\n",
    "musical desarrollado en el marco del Global Project del Máster."
   ]
  },
  {
   "cell_type": "markdown",
   "id": "014be54d",
   "metadata": {},
   "source": [
    "## 1. Consulta de etiquetas desde la API de Last.fm\n",
    "\n",
    "En esta sección conectamos con la API pública de Last.fm utilizando las credenciales definidas en el fichero `.env`.\n",
    "\n",
    "Utilizaremos el método `artist.getTopTags`, que devuelve las etiquetas más populares asociadas a un artista según las valoraciones de la comunidad.\n",
    "\n",
    "Estas etiquetas servirán como proxy del sentimiento asociado al artista."
   ]
  },
  {
   "cell_type": "markdown",
   "id": "4d374a17",
   "metadata": {},
   "source": [
    "### 1.1. Importación de librerias necesarias"
   ]
  },
  {
   "cell_type": "code",
   "execution_count": 133,
   "id": "22697e30",
   "metadata": {},
   "outputs": [],
   "source": [
    "# Importación de librerías necesarias\n",
    "import os\n",
    "import requests\n",
    "import json\n",
    "from dotenv import load_dotenv"
   ]
  },
  {
   "cell_type": "markdown",
   "id": "95d15efb",
   "metadata": {},
   "source": [
    "### 1.2. Consulta de etiquetas desde la API\n",
    "\n",
    "En este bloque realizamos la conexión con la API de Last.fm para obtener información sobre los artistas musicales.\n",
    "\n",
    "El proceso se divide en dos partes:\n",
    "1. Acceso a la API mediante credenciales seguras almacenadas en el archivo `.env`.\n",
    "2. Función personalizada para obtener las etiquetas (`tags`) más representativas asociadas a un artista concreto."
   ]
  },
  {
   "cell_type": "markdown",
   "id": "f9441b9f",
   "metadata": {},
   "source": [
    "1. Acceso a la API mediante credenciales seguras almacenadas en el archivo `.env`."
   ]
  },
  {
   "cell_type": "code",
   "execution_count": 134,
   "id": "1cf66078",
   "metadata": {},
   "outputs": [
    {
     "name": "stdout",
     "output_type": "stream",
     "text": [
      "✅ Credenciales cargadas correctamente.\n"
     ]
    }
   ],
   "source": [
    "# Cargar las variables de entorno desde el archivo .env\n",
    "load_dotenv()\n",
    "\n",
    "# Recuperar claves de la API (limpiando las comillas si existen)\n",
    "API_KEY = os.getenv(\"API_KEY_LASTFM\").strip('\"')\n",
    "USER_LASTFM = os.getenv(\"USER_LASTFM\").strip('\"')\n",
    "\n",
    "# Verificación\n",
    "print(\"✅ Credenciales cargadas correctamente.\")"
   ]
  },
  {
   "cell_type": "markdown",
   "id": "7e28e3ab",
   "metadata": {},
   "source": [
    "2. Función personalizada para obtener las etiquetas (`tags`) más representativas asociadas a un artista concreto."
   ]
  },
  {
   "cell_type": "code",
   "execution_count": 135,
   "id": "0216d185",
   "metadata": {},
   "outputs": [],
   "source": [
    "def get_artist_tags(artist_name):\n",
    "    url = \"http://ws.audioscrobbler.com/2.0/\"\n",
    "    params = {\n",
    "        \"method\": \"artist.getTopTags\",\n",
    "        \"artist\": artist_name,\n",
    "        \"api_key\": API_KEY,\n",
    "        \"format\": \"json\"\n",
    "    }\n",
    "    response = requests.get(url, params=params)\n",
    "    return response.json()"
   ]
  },
  {
   "cell_type": "markdown",
   "id": "6b85fb79",
   "metadata": {},
   "source": [
    "### 1.3. Consulta ejemplo con un artista\n",
    "\n",
    "Aquí podemos ver y analizar el tipo de estructura obtenida en el Json para cada etiqueta."
   ]
  },
  {
   "cell_type": "code",
   "execution_count": 136,
   "id": "ef81b1e4",
   "metadata": {},
   "outputs": [
    {
     "name": "stdout",
     "output_type": "stream",
     "text": [
      "{\n",
      "  \"toptags\": {\n",
      "    \"tag\": [\n",
      "      {\n",
      "        \"count\": 100,\n",
      "        \"name\": \"hard rock\",\n",
      "        \"url\": \"https://www.last.fm/tag/hard+rock\"\n",
      "      },\n",
      "      {\n",
      "        \"count\": 70,\n",
      "        \"name\": \"rock\",\n",
      "        \"url\": \"https://www.last.fm/tag/rock\"\n",
      "      },\n",
      "      {\n",
      "        \"count\": 55,\n",
      "        \"name\": \"classic rock\",\n",
      "        \"url\": \"https://www.last.fm/tag/classic+rock\"\n",
      "      },\n",
      "      {\n",
      "        \"count\": 38,\n",
      "        \"name\": \"80s\",\n",
      "        \"url\": \"https://www.last.fm/tag/80s\"\n",
      "      },\n",
      "      {\n",
      "        \"count\": 23,\n",
      "        \"name\": \"metal\",\n",
      "        \"url\": \"https://www.last.fm/tag/metal\"\n",
      "      },\n",
      "      {\n",
      "        \"count\": 11,\n",
      "        \"name\": \"heavy metal\",\n",
      "        \"url\": \"https://www.last.fm/tag/heavy+metal\"\n",
      "      },\n",
      "      {\n",
      "        \"count\": 11,\n",
      "        \"name\": \"seen live\",\n",
      "        \"url\": \"https://www.last.fm/tag/seen+live\"\n",
      "      },\n",
      "      {\n",
      "        \"count\": 5,\n",
      "        \"name\": \"Guns N Roses\",\n",
      "        \"url\": \"https://www.last.fm/tag/Guns+N+Roses\"\n",
      "      },\n",
      "      {\n",
      "        \"count\": 5,\n",
      "        \"name\": \"american\",\n",
      "        \"url\": \"https://www.last.fm/tag/american\"\n",
      "      },\n",
      "      {\n",
      "        \"count\": 4,\n",
      "        \"name\": \"hair metal\",\n",
      "        \"url\": \"https://www.last.fm/tag/hair+metal\"\n",
      "      },\n",
      "      {\n",
      "        \"count\": 4,\n",
      "        \"name\": \"90s\",\n",
      "        \"url\": \"https://www.last.fm/tag/90s\"\n",
      "      },\n",
      "      {\n",
      "        \"count\": 4,\n",
      "        \"name\": \"glam rock\",\n",
      "        \"url\": \"https://www.last.fm/tag/glam+rock\"\n",
      "      },\n",
      "      {\n",
      "        \"count\": 3,\n",
      "        \"name\": \"alternative\",\n",
      "        \"url\": \"https://www.last.fm/tag/alternative\"\n",
      "      },\n",
      "      {\n",
      "        \"count\": 3,\n",
      "        \"name\": \"Glam Metal\",\n",
      "        \"url\": \"https://www.last.fm/tag/Glam+Metal\"\n",
      "      },\n",
      "      {\n",
      "        \"count\": 2,\n",
      "        \"name\": \"Guns N' Roses\",\n",
      "        \"url\": \"https://www.last.fm/tag/Guns+N%27+Roses\"\n",
      "      },\n",
      "      {\n",
      "        \"count\": 2,\n",
      "        \"name\": \"Slash\",\n",
      "        \"url\": \"https://www.last.fm/tag/Slash\"\n",
      "      },\n",
      "      {\n",
      "        \"count\": 2,\n",
      "        \"name\": \"rock n roll\",\n",
      "        \"url\": \"https://www.last.fm/tag/rock+n+roll\"\n",
      "      },\n",
      "      {\n",
      "        \"count\": 2,\n",
      "        \"name\": \"USA\",\n",
      "        \"url\": \"https://www.last.fm/tag/USA\"\n",
      "      },\n",
      "      {\n",
      "        \"count\": 2,\n",
      "        \"name\": \"sleaze rock\",\n",
      "        \"url\": \"https://www.last.fm/tag/sleaze+rock\"\n",
      "      },\n",
      "      {\n",
      "        \"count\": 2,\n",
      "        \"name\": \"alternative rock\",\n",
      "        \"url\": \"https://www.last.fm/tag/alternative+rock\"\n",
      "      },\n",
      "      {\n",
      "        \"count\": 2,\n",
      "        \"name\": \"guitar\",\n",
      "        \"url\": \"https://www.last.fm/tag/guitar\"\n",
      "      },\n",
      "      {\n",
      "        \"count\": 2,\n",
      "        \"name\": \"Axl Rose\",\n",
      "        \"url\": \"https://www.last.fm/tag/Axl+Rose\"\n",
      "      },\n",
      "      {\n",
      "        \"count\": 2,\n",
      "        \"name\": \"male vocalists\",\n",
      "        \"url\": \"https://www.last.fm/tag/male+vocalists\"\n",
      "      },\n",
      "      {\n",
      "        \"count\": 2,\n",
      "        \"name\": \"punk\",\n",
      "        \"url\": \"https://www.last.fm/tag/punk\"\n",
      "      },\n",
      "      {\n",
      "        \"count\": 1,\n",
      "        \"name\": \"blues rock\",\n",
      "        \"url\": \"https://www.last.fm/tag/blues+rock\"\n",
      "      }\n",
      "    ],\n",
      "    \"@attr\": {\n",
      "      \"artist\": \"Guns N' Roses\"\n",
      "    }\n",
      "  }\n",
      "}\n"
     ]
    }
   ],
   "source": [
    "# Prueba con un artista concreto\n",
    "resultado = get_artist_tags(\"GunsnRoses\")\n",
    "\n",
    "# Mostrar el resultado formateado para análisis\n",
    "print(json.dumps(resultado, indent=2))"
   ]
  },
  {
   "cell_type": "markdown",
   "id": "2dec86b6",
   "metadata": {},
   "source": [
    "## 2. Preparación del texto para el análisis de sentimiento\n",
    "\n",
    "En este paso transformamos las etiquetas (`tags`) extraídas desde la API en un único texto plano que pueda ser interpretado por una herramienta de análisis de sentimiento.\n",
    "\n",
    "Este texto se compone de las etiquetas más representativas del artista, eliminando aquellas que no aportan información valiosa o que son demasiado genéricas (como `seen live`, `favorites`, etc.)."
   ]
  },
  {
   "cell_type": "markdown",
   "id": "65a38907",
   "metadata": {},
   "source": [
    "### 2.1. Importación de librerias necesarias"
   ]
  },
  {
   "cell_type": "code",
   "execution_count": 137,
   "id": "f80835ac",
   "metadata": {},
   "outputs": [],
   "source": [
    "import unicodedata"
   ]
  },
  {
   "cell_type": "markdown",
   "id": "a6267b7f",
   "metadata": {},
   "source": [
    "### 2.2. Extracción de texto plano a partir de las etiquetas (`tags`) de Last.fm.\n",
    "Extrae un texto plano a partir de las etiquetas de Last.fm, excluyendo términos poco informativo o repetidos que incluyan el nombre del artista."
   ]
  },
  {
   "cell_type": "code",
   "execution_count": 138,
   "id": "a2e5ebd2",
   "metadata": {},
   "outputs": [],
   "source": [
    "# Normaliza texto para comparación interna, pero no altera el valor original que se guarda.\n",
    "def normalizar_para_comparar(texto):\n",
    "    texto = unicodedata.normalize('NFKD', texto).encode('ASCII', 'ignore').decode('utf-8')\n",
    "    return texto.lower().replace(\" \", \"\").replace(\"'\", \"\").replace(\"&\", \"and\")\n",
    "\n",
    "# Devuelve un string con las etiquetas principales del artista, limpiando las irrelevantes, pero preservando el formato original de las etiquetas válidas.\n",
    "def extraer_tags_como_texto(tags_json, top_n=10, excluir_comunes=True):\n",
    "\n",
    "    try:\n",
    "        tags = tags_json.get('toptags', {}).get('tag', [])\n",
    "        artist_name_raw = tags_json.get('toptags', {}).get('@attr', {}).get('artist', '')\n",
    "        artist_name_clean = normalizar_para_comparar(artist_name_raw)\n",
    "\n",
    "        comunes = {\"seen live\", \"favorites\", \"00s\", \"90s\", \"80s\", \"70s\", \"british\", \"beautiful\", \"best\"}\n",
    "\n",
    "        tag_names = []\n",
    "        for tag in tags[:top_n]:\n",
    "            name = tag.get(\"name\", \"\").strip()\n",
    "            if not name:\n",
    "                continue\n",
    "            name_lower = name.lower()\n",
    "            if excluir_comunes and name_lower in comunes:\n",
    "                continue\n",
    "            if artist_name_clean in normalizar_para_comparar(name):\n",
    "                continue\n",
    "            tag_names.append(name)  # <- aquí conservamos el valor original\n",
    "\n",
    "        texto_tags = \" \".join(tag_names).strip()\n",
    "        return texto_tags\n",
    "\n",
    "    except Exception as e:\n",
    "        print(\"⚠️ Error al procesar los tags:\", e)\n",
    "        return \"\""
   ]
  },
  {
   "cell_type": "markdown",
   "id": "8d367b42",
   "metadata": {},
   "source": [
    "### 2.3. Consulta ejemplo con un artista\n",
    "\n",
    "Aquí podemos ver y analizar el tipo de estructura obtenida en el Json para cada etiqueta."
   ]
  },
  {
   "cell_type": "code",
   "execution_count": 139,
   "id": "a4b9f507",
   "metadata": {},
   "outputs": [
    {
     "name": "stdout",
     "output_type": "stream",
     "text": [
      "Texto generado con etiquetas para análisis de sentimiento:\n",
      "hard rock rock classic rock metal heavy metal american hair metal\n"
     ]
    }
   ],
   "source": [
    "texto_tags = extraer_tags_como_texto(resultado)\n",
    "print(\"Texto generado con etiquetas para análisis de sentimiento:\")\n",
    "print(texto_tags)"
   ]
  },
  {
   "cell_type": "markdown",
   "id": "697dff9b",
   "metadata": {},
   "source": [
    "## 3. Análisis de sentimiento con TextBlob\n",
    "\n",
    "En este paso aplicamos un análisis de sentimiento sencillo utilizando la librería `TextBlob`.\n",
    "\n",
    "El texto de entrada está compuesto por las etiquetas más representativas del artista en Last.fm.\n",
    "\n",
    "La librería devuelve una puntuación de `polaridad` que va desde -1 (muy negativo) a 1 (muy positivo).\n",
    "Con base en esa polaridad, se clasifica el sentimiento general como positivo, neutro o negativo."
   ]
  },
  {
   "cell_type": "markdown",
   "id": "45cdec86",
   "metadata": {},
   "source": [
    "### 3.1. Importación de librerias necesarias"
   ]
  },
  {
   "cell_type": "code",
   "execution_count": 140,
   "id": "2501eaf6",
   "metadata": {},
   "outputs": [],
   "source": [
    "from textblob import TextBlob"
   ]
  },
  {
   "cell_type": "markdown",
   "id": "b6b09e63",
   "metadata": {},
   "source": [
    "### 3.2. Función de análisis de sentimiento\n",
    "Analiza el sentimiento del texto proporcionado.\n",
    "    \n",
    "Retorna:\n",
    "- Polaridad (float entre -1 y 1)\n",
    "- Interpretación cualitativa"
   ]
  },
  {
   "cell_type": "code",
   "execution_count": 141,
   "id": "f29b6c28",
   "metadata": {},
   "outputs": [],
   "source": [
    "def analizar_sentimiento(texto):\n",
    "    if texto:\n",
    "        blob = TextBlob(texto)\n",
    "        polaridad = blob.sentiment.polarity\n",
    "\n",
    "        if polaridad > 0.2:\n",
    "            interpretacion = \"😊 Positivo\"\n",
    "        elif polaridad < -0.2:\n",
    "            interpretacion = \"😠 Negativo\"\n",
    "        else:\n",
    "            interpretacion = \"😐 Neutro\"\n",
    "\n",
    "        return polaridad, interpretacion\n",
    "    else:\n",
    "        return 0.0, \"Sin texto para analizar\""
   ]
  },
  {
   "cell_type": "markdown",
   "id": "fb089619",
   "metadata": {},
   "source": [
    "### 3.3. Consulta ejemplo con un artista"
   ]
  },
  {
   "cell_type": "code",
   "execution_count": 142,
   "id": "932cda07",
   "metadata": {},
   "outputs": [
    {
     "name": "stdout",
     "output_type": "stream",
     "text": [
      "Texto para analizar:\n",
      "hard rock rock classic rock metal heavy metal american hair metal\n",
      "\n",
      "📊 Resultado del análisis de sentimiento:\n",
      "Polaridad: -0.08125000000000002\n",
      "Sentimiento: 😐 Neutro\n"
     ]
    }
   ],
   "source": [
    "# Asumimos que texto_tags viene de la función anterior\n",
    "print(\"Texto para analizar:\")\n",
    "print(texto_tags)\n",
    "\n",
    "polaridad, resultado_sentimiento = analizar_sentimiento(texto_tags)\n",
    "print(f\"\\n📊 Resultado del análisis de sentimiento:\")\n",
    "print(f\"Polaridad: {polaridad}\")\n",
    "print(f\"Sentimiento: {resultado_sentimiento}\")"
   ]
  },
  {
   "cell_type": "markdown",
   "id": "a0c8b4e9",
   "metadata": {},
   "source": [
    "El análisis de sentimiento sobre las etiquetas asociadas al artista indica una percepción general neutra por parte de la comunidad."
   ]
  },
  {
   "cell_type": "markdown",
   "id": "bbd9b020",
   "metadata": {},
   "source": [
    "## 4. Integración del resultado de sentimiento en la colección de MongoDB\n",
    "\n",
    "En este paso conectamos con la base de datos y actualizamos la colección `artists`,\n",
    "añadiendo el campo `sentiment` (valor textual: positivo / neutro / negativo) y el campo `polarity` (valor numérico).\n",
    "\n",
    "De esta forma, este análisis de sentimiento y futuros análisis quedan reflejados en la base de datos y puede ser consultado o visualizado desde otras herramientas (ej. bot de Telegram)."
   ]
  },
  {
   "cell_type": "markdown",
   "id": "cdbd7970",
   "metadata": {},
   "source": [
    "### 4.1. Importación de librerias necesarias"
   ]
  },
  {
   "cell_type": "code",
   "execution_count": 143,
   "id": "7efbd03d",
   "metadata": {},
   "outputs": [],
   "source": [
    "import os\n",
    "import sys\n",
    "\n",
    "# Subir un nivel desde analysis_023 para llegar a la raíz del proyecto\n",
    "project_root = os.path.abspath(os.path.join(os.getcwd(), '..'))\n",
    "# Añadir la raíz del proyecto a sys.path\n",
    "if project_root not in sys.path:\n",
    "    sys.path.append(project_root)\n",
    "\n",
    "from database_022.mongodb_connection import connect_to_mongodb_database\n",
    "import unicodedata\n",
    "\n",
    "# Librerias para visualizaciones\n",
    "import matplotlib.pyplot as plt\n",
    "import seaborn as sns\n",
    "import pandas as pd"
   ]
  },
  {
   "cell_type": "markdown",
   "id": "acec73c7",
   "metadata": {},
   "source": [
    "### 4.2. Conexión con MongoDB y guardado"
   ]
  },
  {
   "cell_type": "code",
   "execution_count": 144,
   "id": "a75c52ab",
   "metadata": {},
   "outputs": [],
   "source": [
    "# Conectar con MongoDB\n",
    "db = connect_to_mongodb_database()\n",
    "artists_collection = db[\"artists\"]"
   ]
  },
  {
   "cell_type": "code",
   "execution_count": 145,
   "id": "56117bfe",
   "metadata": {},
   "outputs": [],
   "source": [
    "def normalizar_para_comparar(texto):\n",
    "    texto = unicodedata.normalize('NFKD', texto).encode('ASCII', 'ignore').decode('utf-8')\n",
    "    return texto.lower().replace(\" \", \"\").replace(\"'\", \"\").replace(\"&\", \"and\")\n",
    "\n",
    "def guardar_sentimiento_en_mongo(artist_name, sentiment_text, polarity_value):\n",
    "    \"\"\"\n",
    "    Busca el artista por coincidencia normalizada (solo para comparar),\n",
    "    y actualiza su sentimiento sin modificar su nombre original.\n",
    "    \"\"\"\n",
    "    nombre_normalizado = normalizar_para_comparar(artist_name)\n",
    "\n",
    "    # Recorremos todos los artistas y comparamos nombre normalizado\n",
    "    for artista in artists_collection.find():\n",
    "        nombre_en_mongo = artista.get(\"artist\", \"\")\n",
    "        if normalizar_para_comparar(nombre_en_mongo) == nombre_normalizado:\n",
    "            result = artists_collection.update_one(\n",
    "                {\"_id\": artista[\"_id\"]},\n",
    "                {\"$set\": {\n",
    "                    \"sentiment\": sentiment_text,\n",
    "                    \"polarity\": polarity_value\n",
    "                }}\n",
    "            )\n",
    "            print(f\"✅ Sentimiento guardado correctamente para '{nombre_en_mongo}'\")\n",
    "            return\n",
    "\n",
    "    print(f\"⚠️ No se encontró el artista '{artist_name}' (ni siquiera normalizado)\")"
   ]
  },
  {
   "cell_type": "markdown",
   "id": "22ab49d8",
   "metadata": {},
   "source": [
    "### 4.3. Consulta ejemplo con un artista"
   ]
  },
  {
   "cell_type": "code",
   "execution_count": 146,
   "id": "cc466a5a",
   "metadata": {},
   "outputs": [
    {
     "name": "stdout",
     "output_type": "stream",
     "text": [
      "✅ Sentimiento guardado correctamente para 'Guns N' Roses'\n"
     ]
    }
   ],
   "source": [
    "# Nombre exacto como esté en MongoDB\n",
    "nombre_artista = \"Guns N' Roses\"\n",
    "\n",
    "# Guardamos el análisis anterior\n",
    "guardar_sentimiento_en_mongo(nombre_artista, resultado_sentimiento, polaridad)"
   ]
  },
  {
   "cell_type": "markdown",
   "id": "7adb7f7a",
   "metadata": {},
   "source": [
    "### 4.4. Análisis en lote de toda la colección de artistas\n",
    "\n",
    "A continuación se realiza el análisis de sentimiento para todos los artistas de la colección `artists`.\n",
    "Para cada uno, se extraen etiquetas desde la API de Last.fm, se genera un texto representativo, se evalúa el sentimiento, y se guarda el resultado en MongoDB.\n",
    "\n",
    "Este paso automatiza el proceso de enriquecimiento de datos, permitiendo actualizar de forma masiva y replicable toda la base de artistas."
   ]
  },
  {
   "cell_type": "code",
   "execution_count": 147,
   "id": "2f22a950",
   "metadata": {},
   "outputs": [
    {
     "name": "stdout",
     "output_type": "stream",
     "text": [
      "🔎 Artistas con campo 'artist' en MongoDB: 83\n",
      "✅ Sentimiento guardado correctamente para 'Elefante'\n",
      "✅ Sentimiento guardado correctamente para 'Lun8'\n",
      "✅ Sentimiento guardado correctamente para 'Morad'\n",
      "✅ Sentimiento guardado correctamente para 'Marco Mengoni'\n",
      "✅ Sentimiento guardado correctamente para 'Walls'\n",
      "✅ Sentimiento guardado correctamente para 'Counting Crows'\n",
      "✅ Sentimiento guardado correctamente para 'Jack & Jack'\n",
      "✅ Sentimiento guardado correctamente para 'Big Time Rush'\n",
      "✅ Sentimiento guardado correctamente para 'Tedua'\n",
      "✅ Sentimiento guardado correctamente para 'OneRepublic'\n",
      "✅ Sentimiento guardado correctamente para 'Lady Gaga'\n",
      "✅ Sentimiento guardado correctamente para 'Nick Mulvey'\n",
      "✅ Sentimiento guardado correctamente para 'Residente'\n",
      "✅ Sentimiento guardado correctamente para 'The Brian Jonestown Massacre'\n",
      "✅ Sentimiento guardado correctamente para 'Toquinho'\n",
      "✅ Sentimiento guardado correctamente para 'Bright Eyes'\n",
      "✅ Sentimiento guardado correctamente para 'Dano'\n",
      "✅ Sentimiento guardado correctamente para 'Maya Hawke'\n",
      "✅ Sentimiento guardado correctamente para 'Guns N' Roses'\n",
      "✅ Sentimiento guardado correctamente para 'The Hives'\n",
      "✅ Sentimiento guardado correctamente para 'AC/DC'\n",
      "✅ Sentimiento guardado correctamente para 'Raule'\n",
      "✅ Sentimiento guardado correctamente para 'Stray Kids'\n",
      "✅ Sentimiento guardado correctamente para 'Gloosito'\n",
      "✅ Sentimiento guardado correctamente para 'MANÁ'\n",
      "✅ Sentimiento guardado correctamente para 'Monica Naranjo'\n",
      "✅ Sentimiento guardado correctamente para 'Paulo Londra'\n",
      "✅ Sentimiento guardado correctamente para 'Inhaler'\n",
      "✅ Sentimiento guardado correctamente para 'Jessie Reyez'\n",
      "✅ Sentimiento guardado correctamente para 'The Corrs'\n",
      "✅ Sentimiento guardado correctamente para 'The Lumineers'\n",
      "✅ Sentimiento guardado correctamente para 'Tom Odell'\n",
      "✅ Sentimiento guardado correctamente para 'Julia Sabaté'\n",
      "✅ Sentimiento guardado correctamente para 'Twenty One Pilots'\n",
      "✅ Sentimiento guardado correctamente para 'GHOST'\n",
      "✅ Sentimiento guardado correctamente para 'Mumford & Sons'\n",
      "✅ Sentimiento guardado correctamente para 'Sematary'\n",
      "✅ Sentimiento guardado correctamente para 'Wave To Earth'\n",
      "✅ Sentimiento guardado correctamente para 'Fangoria'\n",
      "✅ Sentimiento guardado correctamente para 'Erreway'\n",
      "✅ Sentimiento guardado correctamente para 'La Femme'\n",
      "✅ Sentimiento guardado correctamente para 'Imagine Dragons'\n",
      "✅ Sentimiento guardado correctamente para 'James Arthur'\n",
      "✅ Sentimiento guardado correctamente para 'Ed Sheeran'\n",
      "✅ Sentimiento guardado correctamente para 'Lionel Richie'\n",
      "✅ Sentimiento guardado correctamente para 'Tamino'\n",
      "✅ Sentimiento guardado correctamente para 'Pixies'\n",
      "✅ Sentimiento guardado correctamente para 'Weezer'\n",
      "✅ Sentimiento guardado correctamente para 'Only the Poets'\n",
      "✅ Sentimiento guardado correctamente para 'Queen Extravaganza'\n",
      "✅ Sentimiento guardado correctamente para 'Duki'\n",
      "✅ Sentimiento guardado correctamente para 'Diego Torres'\n",
      "✅ Sentimiento guardado correctamente para 'AURORA'\n",
      "✅ Sentimiento guardado correctamente para 'Dua Lipa'\n",
      "✅ Sentimiento guardado correctamente para 'Delaporte'\n",
      "✅ Sentimiento guardado correctamente para 'Camila Cabello'\n",
      "✅ Sentimiento guardado correctamente para 'Tate McRae'\n",
      "✅ Sentimiento guardado correctamente para 'WARHAUS'\n",
      "✅ Sentimiento guardado correctamente para 'Robert Plant'\n",
      "✅ Sentimiento guardado correctamente para 'Rei'\n",
      "✅ Sentimiento guardado correctamente para 'The Midnight'\n",
      "✅ Sentimiento guardado correctamente para 'HAUSER'\n",
      "✅ Sentimiento guardado correctamente para 'Billie Eilish'\n",
      "✅ Sentimiento guardado correctamente para 'Post Malone'\n",
      "✅ Sentimiento guardado correctamente para 'Rauw Alejandro'\n",
      "✅ Sentimiento guardado correctamente para 'Peso Pluma'\n",
      "✅ Sentimiento guardado correctamente para 'Luka Sulic'\n",
      "✅ Sentimiento guardado correctamente para 'Dead Poet Society'\n",
      "✅ Sentimiento guardado correctamente para 'Jamiroquai'\n",
      "✅ Sentimiento guardado correctamente para 'Los Tigres del Norte'\n",
      "✅ Sentimiento guardado correctamente para 'Kendrick Lamar'\n",
      "✅ Sentimiento guardado correctamente para 'Nemo'\n",
      "✅ Sentimiento guardado correctamente para 'BLACKPINK'\n",
      "✅ Sentimiento guardado correctamente para 'Ado'\n"
     ]
    }
   ],
   "source": [
    "# Inicializar contadores y listas\n",
    "total_artistas = 0\n",
    "procesados_ok = 0\n",
    "sin_etiquetas = 0\n",
    "\n",
    "artistas_ok = []\n",
    "artistas_sin_etiquetas = []\n",
    "\n",
    "# Mostrar cuántos documentos tienen el campo \"artist\" en MongoDB\n",
    "mongo_con_artist = artists_collection.count_documents({\"artist\": {\"$exists\": True}})\n",
    "print(f\"🔎 Artistas con campo 'artist' en MongoDB: {mongo_con_artist}\")\n",
    "\n",
    "# Recorre todos los artistas de MongoDB y actualiza sentimiento\n",
    "for artista in artists_collection.find():\n",
    "    nombre_original = artista.get(\"artist\", \"\")\n",
    "    if not nombre_original:\n",
    "        continue  # ignora los que no tienen campo \"artist\"\n",
    "\n",
    "    total_artistas += 1\n",
    "\n",
    "    try:\n",
    "        tags_json = get_artist_tags(nombre_original)\n",
    "        texto_tags = extraer_tags_como_texto(tags_json)\n",
    "\n",
    "        if not texto_tags:\n",
    "            artistas_sin_etiquetas.append(nombre_original)\n",
    "            sin_etiquetas += 1\n",
    "            continue\n",
    "\n",
    "        polaridad, sentimiento = analizar_sentimiento(texto_tags)\n",
    "        guardar_sentimiento_en_mongo(nombre_original, sentimiento, polaridad)\n",
    "\n",
    "        artistas_ok.append(nombre_original)\n",
    "        procesados_ok += 1\n",
    "\n",
    "    except Exception as e:\n",
    "        artistas_sin_etiquetas.append(nombre_original)\n",
    "        sin_etiquetas += 1"
   ]
  },
  {
   "cell_type": "markdown",
   "id": "f016ba9e",
   "metadata": {},
   "source": [
    "Vemos como ha ido actualizando cada artista de la base de datos de MongoDB con las nuevas etiquetas de polaridad y sentimiento, esto nos puede dar una idea de si esta haciendo bien el ejercicio pero pasemos a analizar los resultados."
   ]
  },
  {
   "cell_type": "markdown",
   "id": "967236fc",
   "metadata": {},
   "source": [
    "### 4.5 Interpretación de resultados y visualización del análisis de sentimiento"
   ]
  },
  {
   "cell_type": "code",
   "execution_count": 148,
   "id": "ab4c52c1",
   "metadata": {},
   "outputs": [
    {
     "name": "stdout",
     "output_type": "stream",
     "text": [
      "\n",
      "✅ Artistas actualizados con sentimiento:\n",
      " - Elefante\n",
      " - Lun8\n",
      " - Morad\n",
      " - Marco Mengoni\n",
      " - Walls\n",
      " - Counting Crows\n",
      " - Jack & Jack\n",
      " - Big Time Rush\n",
      " - Tedua\n",
      " - OneRepublic\n",
      " - Lady Gaga\n",
      " - Nick Mulvey\n",
      " - Residente\n",
      " - The Brian Jonestown Massacre\n",
      " - Toquinho\n",
      " - Bright Eyes\n",
      " - Dano\n",
      " - Maya Hawke\n",
      " - Guns N' Roses\n",
      " - The Hives\n",
      " - AC/DC\n",
      " - Raule\n",
      " - Stray Kids\n",
      " - Gloosito\n",
      " - MANÁ\n",
      " - Monica Naranjo\n",
      " - Paulo Londra\n",
      " - Inhaler\n",
      " - Jessie Reyez\n",
      " - The Corrs\n",
      " - The Lumineers\n",
      " - Tom Odell\n",
      " - Julia Sabaté\n",
      " - Twenty One Pilots\n",
      " - GHOST\n",
      " - Mumford & Sons\n",
      " - Sematary\n",
      " - Wave To Earth\n",
      " - Fangoria\n",
      " - Erreway\n",
      " - La Femme\n",
      " - Imagine Dragons\n",
      " - James Arthur\n",
      " - Ed Sheeran\n",
      " - Lionel Richie\n",
      " - Tamino\n",
      " - Pixies\n",
      " - Weezer\n",
      " - Only the Poets\n",
      " - Queen Extravaganza\n",
      " - Duki\n",
      " - Diego Torres\n",
      " - AURORA\n",
      " - Dua Lipa\n",
      " - Delaporte\n",
      " - Camila Cabello\n",
      " - Tate McRae\n",
      " - WARHAUS\n",
      " - Robert Plant\n",
      " - Rei\n",
      " - The Midnight\n",
      " - HAUSER\n",
      " - Billie Eilish\n",
      " - Post Malone\n",
      " - Rauw Alejandro\n",
      " - Peso Pluma\n",
      " - Luka Sulic\n",
      " - Dead Poet Society\n",
      " - Jamiroquai\n",
      " - Los Tigres del Norte\n",
      " - Kendrick Lamar\n",
      " - Nemo\n",
      " - BLACKPINK\n",
      " - Ado\n",
      "\n",
      "🔢 Total actualizados correctamente: 74\n"
     ]
    }
   ],
   "source": [
    "# Mostrar resultados agrupados de artistas con sentimiento asignado\n",
    "print(\"\\n✅ Artistas actualizados con sentimiento:\")\n",
    "for nombre in artistas_ok:\n",
    "    print(f\" - {nombre}\")\n",
    "print(f\"\\n🔢 Total actualizados correctamente: {procesados_ok}\")"
   ]
  },
  {
   "cell_type": "code",
   "execution_count": 149,
   "id": "2e7bb04a",
   "metadata": {},
   "outputs": [
    {
     "name": "stdout",
     "output_type": "stream",
     "text": [
      "\n",
      "⚠️ Artistas sin etiquetas asignadas:\n",
      " - Hans Zimmer in Symphony\n",
      " - Basshall Movement\n",
      " - CA7RIEL / PACO AMOROSO\n",
      " - Mad Cool Festival\n",
      " - SMusic Festival\n",
      " - The Alan Parsons Live Project\n",
      " - Primavera Pop\n",
      " - Energy Fest\n",
      " - Matinee Gold\n",
      "\n",
      "🔢 Total sin etiquetas: 9\n"
     ]
    }
   ],
   "source": [
    "# Mostrar resultados de artistas sin asignación\n",
    "print(\"\\n⚠️ Artistas sin etiquetas asignadas:\")\n",
    "for nombre in artistas_sin_etiquetas:\n",
    "    print(f\" - {nombre}\")\n",
    "print(f\"\\n🔢 Total sin etiquetas: {sin_etiquetas}\")"
   ]
  },
  {
   "cell_type": "code",
   "execution_count": 150,
   "id": "4ad22c79",
   "metadata": {},
   "outputs": [
    {
     "name": "stdout",
     "output_type": "stream",
     "text": [
      "\n",
      "📊 Resumen global del análisis de sentimiento:\n",
      "✅ Con sentimiento añadido: 74 artistas\n",
      "⚠️ Sin etiquetas o error: 9 artistas\n",
      "🎵 Total artistas válidos encontrados: 83\n"
     ]
    }
   ],
   "source": [
    "# Resumen final\n",
    "print(\"\\n📊 Resumen global del análisis de sentimiento:\")\n",
    "print(f\"✅ Con sentimiento añadido: {procesados_ok} artistas\")\n",
    "print(f\"⚠️ Sin etiquetas o error: {sin_etiquetas} artistas\")\n",
    "print(f\"🎵 Total artistas válidos encontrados: {total_artistas}\")"
   ]
  },
  {
   "cell_type": "code",
   "execution_count": 151,
   "id": "fde5158a",
   "metadata": {},
   "outputs": [
    {
     "name": "stdout",
     "output_type": "stream",
     "text": [
      "📁 Total documentos en MongoDB: 83\n"
     ]
    }
   ],
   "source": [
    "print(\"📁 Total documentos en MongoDB:\", artists_collection.count_documents({}))"
   ]
  },
  {
   "cell_type": "markdown",
   "id": "eaaa9d0d",
   "metadata": {},
   "source": [
    "Comprobamos que los artistas revisados coinciden con el total de artistas de la colección \"artists\" de MongoDB"
   ]
  },
  {
   "cell_type": "code",
   "execution_count": 152,
   "id": "9b342f43",
   "metadata": {},
   "outputs": [
    {
     "data": {
      "image/png": "[encoded data removed]",
      "text/plain": [
       "<Figure size 1600x800 with 2 Axes>"
      ]
     },
     "metadata": {},
     "output_type": "display_data"
    }
   ],
   "source": [
    "# Datos\n",
    "etiquetas = ['Con sentimiento', 'Sin sentimiento']\n",
    "valores = [procesados_ok, sin_etiquetas]\n",
    "porcentajes = [v / total_artistas * 100 for v in valores]\n",
    "\n",
    "# DataFrame\n",
    "datos_sentimiento = pd.DataFrame({\n",
    "    'Resultado': etiquetas,\n",
    "    'Artistas': valores\n",
    "})\n",
    "\n",
    "# Paleta azul\n",
    "colores = sns.color_palette(\"Blues\", n_colors=3)[1:]\n",
    "\n",
    "# Tamaños personalizados\n",
    "fig_ancho = 16\n",
    "fig_alto = 8\n",
    "fontsize_titulo = 22\n",
    "fontsize_ejes = 16\n",
    "fontsize_etiquetas = 18\n",
    "fontsize_pie = 18\n",
    "fontsize_anotaciones = 16\n",
    "\n",
    "# Crear figura grande\n",
    "plt.figure(figsize=(fig_ancho, fig_alto))\n",
    "\n",
    "# Subplot 1: Barras\n",
    "plt.subplot(1, 2, 1)\n",
    "barplot = sns.barplot(data=datos_sentimiento, x='Resultado', y='Artistas',\n",
    "                      hue='Resultado', palette=colores, legend=False)\n",
    "\n",
    "# Etiquetas grandes en las barras\n",
    "for p in barplot.patches:\n",
    "    barplot.annotate(f'{int(p.get_height())}', \n",
    "                     (p.get_x() + p.get_width() / 2, p.get_height() + 1),\n",
    "                     ha='center', va='bottom', fontsize=fontsize_anotaciones)\n",
    "\n",
    "# Estilo gráfico de barras\n",
    "plt.title('Cobertura del análisis de sentimiento', fontsize=fontsize_titulo)\n",
    "plt.ylabel('Número de artistas', fontsize=fontsize_ejes)\n",
    "plt.xlabel('', fontsize=fontsize_ejes)\n",
    "plt.xticks(fontsize=fontsize_etiquetas)\n",
    "plt.yticks(fontsize=fontsize_etiquetas)\n",
    "\n",
    "# Subplot 2: Pastel\n",
    "plt.subplot(1, 2, 2)\n",
    "plt.pie(valores, labels=etiquetas, autopct='%1.1f%%', startangle=90,\n",
    "        colors=colores, textprops={'fontsize': fontsize_pie})\n",
    "plt.title('Distribución porcentual del análisis', fontsize=fontsize_titulo)\n",
    "\n",
    "plt.tight_layout()\n",
    "plt.show()"
   ]
  },
  {
   "cell_type": "code",
   "execution_count": 155,
   "id": "6d155398",
   "metadata": {},
   "outputs": [
    {
     "data": {
      "image/png": "[encoded data removed]",
      "text/plain": [
       "<Figure size 500x600 with 1 Axes>"
      ]
     },
     "metadata": {},
     "output_type": "display_data"
    }
   ],
   "source": [
    "# Obtener distribución de sentimientos desde MongoDB\n",
    "conteo_sentimientos = artists_collection.aggregate([\n",
    "    {\"$match\": {\"sentiment\": {\"$in\": [\"😊 Positivo\", \"😐 Neutro\", \"😠 Negativo\"]}}},\n",
    "    {\"$group\": {\"_id\": \"$sentiment\", \"total\": {\"$sum\": 1}}}\n",
    "])\n",
    "\n",
    "# Convertimos a DataFrame\n",
    "df_sentimientos = pd.DataFrame(list(conteo_sentimientos))\n",
    "df_sentimientos.columns = ['Sentimiento', 'Total']\n",
    "\n",
    "# Orden personalizado (para que aparezcan en orden lógico)\n",
    "orden_sentimientos = [\"😊 Positivo\", \"😐 Neutro\", \"😠 Negativo\"]\n",
    "df_sentimientos['Sentimiento'] = pd.Categorical(df_sentimientos['Sentimiento'], categories=orden_sentimientos, ordered=True)\n",
    "df_sentimientos = df_sentimientos.sort_values('Sentimiento')\n",
    "\n",
    "# Paleta en tonos azules\n",
    "colores = sns.color_palette(\"Blues\", n_colors=3)\n",
    "\n",
    "# Crear gráfico sin warning (usando hue)\n",
    "plt.figure(figsize=(5,6))\n",
    "barplot = sns.barplot(data=df_sentimientos, x='Sentimiento', y='Total', \n",
    "                      hue='Sentimiento', palette=colores, legend=False)\n",
    "\n",
    "# Añadir etiquetas en las barras\n",
    "for p in barplot.patches:\n",
    "    barplot.annotate(f'{int(p.get_height())}', \n",
    "                     (p.get_x() + p.get_width() / 2, p.get_height()),\n",
    "                     ha='center', va='bottom', fontsize=11)\n",
    "\n",
    "# Títulos\n",
    "plt.title('Distribución del tipo de sentimiento asignado a artistas', fontsize = 14)\n",
    "plt.ylabel('Número de artistas')\n",
    "plt.xlabel('Tipo de sentimiento')\n",
    "plt.tight_layout()\n",
    "plt.show()"
   ]
  },
  {
   "cell_type": "markdown",
   "id": "29e6e3fb",
   "metadata": {},
   "source": [
    "Tras aplicar el análisis de sentimiento a los artistas de nuestra colección, se ha conseguido etiquetar emocionalmente a un **89,2%** de los casos, frente a un **10,8%** para los que no fue posible asignar ninguna etiqueta debido a la falta de información o errores durante el proceso de extracción. Esta alta cobertura inicial sugiere que la estrategia utilizada es eficaz para enriquecer automáticamente la base de datos con metainformación valiosa, basada en procesamiento de lenguaje natural (NLP).\n",
    "\n",
    "Además, al profundizar en la distribución interna de los **74 artistas que sí fueron etiquetados**, observamos que:\n",
    "\n",
    "- La **gran mayoría** (66 artistas) recibió una valoración **neutra** 😐\n",
    "- Solo **5 artistas** fueron clasificados con sentimiento **positivo** 😊\n",
    "- Y **3 artistas** con sentimiento **negativo** 😠\n",
    "\n",
    "Esta distribución tan desbalanceada hacia el sentimiento neutro plantea nuevas preguntas analíticas que abren la puerta a investigaciones futuras. Aunque hemos logrado enriquecer más del **85% de la población total**, los resultados sugieren que la fuente de etiquetas (API de Last.fm):\n",
    "\n",
    "- Ofrece una información emocional limitada o poco polarizada\n",
    "- O bien que el proceso de extracción actual no captura con suficiente riqueza la carga emocional real de los artistas\n",
    "\n",
    "**En consecuencia, sería interesante profundizar en:**\n",
    "\n",
    "- El uso de técnicas de NLP más avanzadas (por ejemplo, modelos tipo BERT o análisis multilingüe)\n",
    "- La combinación de Last.fm con otras fuentes de información (reseñas, letras de canciones, descripciones más elaboradas)\n",
    "- El impacto del preprocesamiento de texto, ya que muchas descripciones pueden contener ruido o ambigüedad\n",
    "\n",
    "Este análisis preliminar nos ha permitido probar la viabilidad técnica de incorporar sentimiento a la base de datos y nos ha revelado nuevos frentes de mejora para aumentar la expresividad y utilidad del sistema de recomendación futura en el bot de Telegram."
   ]
  },
  {
   "cell_type": "markdown",
   "id": "58bdb1cf",
   "metadata": {},
   "source": [
    "## 5. Conclusión\n",
    "\n",
    "En este notebook se ha implementado un análisis de sentimiento básico a partir de las etiquetas asociadas a artistas en la plataforma Last.fm, integrando esta información en la base de datos MongoDB del proyecto.\n",
    "\n",
    "Este análisis, aunque sencillo, aporta un valor adicional al sistema, complementando los datos estructurados provenientes de Ticketmaster (como eventos, fechas, ubicaciones, etc.) con una percepción más emocional o colectiva del artista. Esta percepción ha sido inferida a partir del comportamiento y etiquetado de usuarios en una red musical social activa.\n",
    "\n",
    "El resultado final —una puntuación de polaridad y una etiqueta de sentimiento positivo/neutro/negativo— se almacena directamente en la colección `artists`, y estará disponible para ser consultado por el bot de Telegram que acompaña al sistema. De esta manera, se podrá responder al usuario no solo con fechas de conciertos, sino también con información como:\n",
    "\n",
    "> 🎶 *Guns N' Roses* tiene una percepción general **neutra** entre los fans de Last.fm.\n",
    "\n",
    "\n",
    "---\n",
    "### 📌 Posibilidades futuras\n",
    "\n",
    "Esta primera integración abre las posibilidades a extenderlo a un buen análisis de sentimiento y enriquecer el sistema con información adicional desde la API de Last.fm, como por ejemplo:\n",
    "\n",
    "- Número de oyentes mensuales del artista (`artist.getInfo`)\n",
    "- Canciones más escuchadas (`artist.getTopTracks`)\n",
    "- Valoraciones o biografía del artista (`artist.getInfo > bio > summary`)\n",
    "- Comentarios públicos o tags por canción (si se usan `track.getInfo` o `track.getTopTags`)\n",
    "\n",
    "Toda esta información permitiría, en futuras versiones, alimentar tanto modelos de recomendación como herramientas de exploración o visualización desde el bot de Telegram, ofreciendo una experiencia más personalizada y rica para el usuario.\n",
    "\n",
    "---\n",
    "\n",
    "\n",
    "\n",
    "### ✅ Utilidad de los resultados\n",
    "\n",
    "Este notebook se ha incorporado al proyecto como parte del flujo analítico principal. Gracias a él:\n",
    "\n",
    "- Se enriquece la colección `artists` con nuevas variables interpretativas.\n",
    "- Se ofrece un primer acercamiento a análisis de texto y sentimiento.\n",
    "- Se potencia el uso de fuentes externas para complementar datos de eventos.\n",
    "- Se allana el camino para sistemas de recomendación más inteligentes e interactivos."
   ]
  }
 ],
 "metadata": {
  "kernelspec": {
   "display_name": ".venv",
   "language": "python",
   "name": "python3"
  },
  "language_info": {
   "codemirror_mode": {
    "name": "ipython",
    "version": 3
   },
   "file_extension": ".py",
   "mimetype": "text/x-python",
   "name": "python",
   "nbconvert_exporter": "python",
   "pygments_lexer": "ipython3",
   "version": "3.13.2"
  }
 },
 "nbformat": 4,
 "nbformat_minor": 5
}
